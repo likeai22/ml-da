{
 "cells": [
  {
   "cell_type": "code",
   "execution_count": 166,
   "metadata": {
    "collapsed": true
   },
   "outputs": [],
   "source": [
    "\n",
    "import re"
   ]
  },
  {
   "cell_type": "code",
   "execution_count": 172,
   "outputs": [],
   "source": [
    "def read_file(data):\n",
    "    words_list = list()\n",
    "    some_set = set()\n",
    "\n",
    "    with open(data, 'r', encoding='utf-8') as f:\n",
    "        for line in f.readlines():\n",
    "            words_list.append([x for x in re.split('[^\\w+]', line.lower()) if x])\n",
    "\n",
    "    for line in words_list:\n",
    "        for word in line:\n",
    "            if word not in some_set:\n",
    "                some_set.add(word)\n",
    "\n",
    "    int_filter_list = [x for x in list(some_set) if not (x.isdigit() or x[0] == '-' and x[1:].isdigit())]\n",
    "\n",
    "    return int_filter_list\n"
   ],
   "metadata": {
    "collapsed": false,
    "pycharm": {
     "name": "#%%\n"
    }
   }
  },
  {
   "cell_type": "code",
   "execution_count": 173,
   "outputs": [],
   "source": [
    "read_file(\"6data.txt\");"
   ],
   "metadata": {
    "collapsed": false,
    "pycharm": {
     "name": "#%%\n"
    }
   }
  },
  {
   "cell_type": "code",
   "execution_count": 174,
   "outputs": [],
   "source": [
    "def save_file(data, words):\n",
    "    with open(data, 'w', encoding='utf-8') as f:\n",
    "        f.write(\"\\n\".join(sorted(words)))\n",
    "        f.write(f\"\\nВсего уникальных слов: {len(words)}\")"
   ],
   "metadata": {
    "collapsed": false,
    "pycharm": {
     "name": "#%%\n"
    }
   }
  },
  {
   "cell_type": "code",
   "execution_count": 175,
   "outputs": [],
   "source": [
    "w = read_file(\"6data.txt\")"
   ],
   "metadata": {
    "collapsed": false,
    "pycharm": {
     "name": "#%%\n"
    }
   }
  },
  {
   "cell_type": "code",
   "execution_count": 176,
   "outputs": [],
   "source": [
    "save_file(\"6result.txt\", w)\n"
   ],
   "metadata": {
    "collapsed": false,
    "pycharm": {
     "name": "#%%\n"
    }
   }
  }
 ],
 "metadata": {
  "kernelspec": {
   "display_name": "Python 3",
   "language": "python",
   "name": "python3"
  },
  "language_info": {
   "codemirror_mode": {
    "name": "ipython",
    "version": 2
   },
   "file_extension": ".py",
   "mimetype": "text/x-python",
   "name": "python",
   "nbconvert_exporter": "python",
   "pygments_lexer": "ipython2",
   "version": "2.7.6"
  }
 },
 "nbformat": 4,
 "nbformat_minor": 0
}