{
 "cells": [
  {
   "cell_type": "code",
   "execution_count": 81,
   "metadata": {
    "collapsed": true
   },
   "outputs": [],
   "source": [
    "\n",
    "class User:\n",
    "    count = 0\n",
    "\n",
    "    def __init__(self, name, login, password):\n",
    "        self.__name = name\n",
    "        self.__login = login\n",
    "        self.__password = password\n",
    "        self.__class__.count += 1\n",
    "\n",
    "    password = property(doc='Write-only password property.')\n",
    "\n",
    "    @property\n",
    "    def name(self):\n",
    "        return self.__name\n",
    "\n",
    "    @name.setter\n",
    "    def name(self, value):\n",
    "        self.__name = value\n",
    "\n",
    "    @password.getter\n",
    "    def password(self):\n",
    "        raise AttributeError('Error! Write-only password property!')\n",
    "\n",
    "    @password.setter\n",
    "    def password(self, value):\n",
    "        print('change...')\n",
    "        self.__password = value\n",
    "\n",
    "    @property\n",
    "    def login(self):\n",
    "        \"\"\"Read-only login property.\"\"\"\n",
    "        return self.__login\n",
    "\n",
    "    @login.setter\n",
    "    def login(self, value):\n",
    "        raise AttributeError('Error! Read-only login property!')\n",
    "\n",
    "    def show_info(self):\n",
    "        return 'Name: ' + self.name + ', Login: ' + self.login\n",
    "\n",
    "    def __repr__(self):\n",
    "        return 'Name: ' + self.name + ', Login: ' + self.login"
   ]
  },
  {
   "cell_type": "code",
   "execution_count": 82,
   "outputs": [],
   "source": [
    "class SuperUser(User):\n",
    "    count = 0\n",
    "\n",
    "    def __init__(self, name, login, password, role):\n",
    "        super().__init__(name, login, password)\n",
    "        self.__role = role\n",
    "        self.__class__.count += 1\n",
    "        User.count -= 1\n",
    "\n",
    "    @property\n",
    "    def role(self):\n",
    "        return self.__role\n",
    "\n",
    "    @role.setter\n",
    "    def role(self, value):\n",
    "        self.__role = value\n",
    "\n",
    "    def show_info(self):\n",
    "        return super().show_info() + ', Role: ' + self.role"
   ],
   "metadata": {
    "collapsed": false,
    "pycharm": {
     "name": "#%%\n"
    }
   }
  },
  {
   "cell_type": "code",
   "execution_count": 83,
   "outputs": [
    {
     "data": {
      "text/plain": "'Name: Paul McCartney, Login: paul'"
     },
     "execution_count": 83,
     "metadata": {},
     "output_type": "execute_result"
    }
   ],
   "source": [
    "user1 = User('Paul McCartney', 'paul', '1234')\n",
    "user2 = User('George Harrison', 'george', '5678')\n",
    "user3 = User('Richard Starkey', 'ringo', '8523')\n",
    "\n",
    "user1.show_info()"
   ],
   "metadata": {
    "collapsed": false,
    "pycharm": {
     "name": "#%%\n"
    }
   }
  },
  {
   "cell_type": "code",
   "execution_count": 84,
   "outputs": [
    {
     "name": "stdout",
     "output_type": "stream",
     "text": [
      "3\n"
     ]
    }
   ],
   "source": [
    "users = User.count\n",
    "print(users)"
   ],
   "metadata": {
    "collapsed": false,
    "pycharm": {
     "name": "#%%\n"
    }
   }
  },
  {
   "cell_type": "code",
   "execution_count": 85,
   "outputs": [
    {
     "name": "stdout",
     "output_type": "stream",
     "text": [
      "Всего обычных пользователей: 3\n"
     ]
    }
   ],
   "source": [
    "print(f'Всего обычных пользователей: {users}')"
   ],
   "metadata": {
    "collapsed": false,
    "pycharm": {
     "name": "#%%\n"
    }
   }
  },
  {
   "cell_type": "code",
   "execution_count": 86,
   "outputs": [
    {
     "name": "stdout",
     "output_type": "stream",
     "text": [
      "Ringo Star\n"
     ]
    }
   ],
   "source": [
    "user3.name = 'Ringo Star'\n",
    "print(user3.name) # Ringo Starr"
   ],
   "metadata": {
    "collapsed": false,
    "pycharm": {
     "name": "#%%\n"
    }
   }
  },
  {
   "cell_type": "code",
   "execution_count": 87,
   "outputs": [],
   "source": [
    "# print(user2.login)\n",
    "# user2.login = 'geo'"
   ],
   "metadata": {
    "collapsed": false,
    "pycharm": {
     "name": "#%%\n"
    }
   }
  },
  {
   "cell_type": "code",
   "execution_count": 88,
   "outputs": [],
   "source": [
    "# user2.password = 'Pa$$w0rd'\n",
    "# print(user2.password)"
   ],
   "metadata": {
    "collapsed": false,
    "pycharm": {
     "name": "#%%\n"
    }
   }
  },
  {
   "cell_type": "code",
   "execution_count": 89,
   "outputs": [
    {
     "data": {
      "text/plain": "'Name: John Lennon, Login: john, Role: admin'"
     },
     "execution_count": 89,
     "metadata": {},
     "output_type": "execute_result"
    }
   ],
   "source": [
    "admin = SuperUser(\"John Lennon\", \"john\", \"0000\", \"admin\")\n",
    "admin.show_info()"
   ],
   "metadata": {
    "collapsed": false,
    "pycharm": {
     "name": "#%%\n"
    }
   }
  }
 ],
 "metadata": {
  "kernelspec": {
   "display_name": "Python 3",
   "language": "python",
   "name": "python3"
  },
  "language_info": {
   "codemirror_mode": {
    "name": "ipython",
    "version": 2
   },
   "file_extension": ".py",
   "mimetype": "text/x-python",
   "name": "python",
   "nbconvert_exporter": "python",
   "pygments_lexer": "ipython2",
   "version": "2.7.6"
  }
 },
 "nbformat": 4,
 "nbformat_minor": 0
}