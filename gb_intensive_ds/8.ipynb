{
 "cells": [
  {
   "cell_type": "code",
   "execution_count": 712,
   "metadata": {
    "collapsed": true
   },
   "outputs": [],
   "source": [
    "class Singleton(object):\n",
    "    ans = None\n",
    "\n",
    "    @staticmethod\n",
    "    def instance():\n",
    "        if '_instance' not in Singleton.__dict__:\n",
    "            Singleton._instance = Singleton()\n",
    "        return Singleton._instance"
   ]
  },
  {
   "cell_type": "code",
   "execution_count": 713,
   "outputs": [],
   "source": [
    "s1 = Singleton.instance()\n",
    "s2 = Singleton.instance()\n",
    "\n",
    "assert s1 is s2\n",
    "\n",
    "s1.ans = 42\n",
    "\n",
    "assert s2.ans == s1.ans"
   ],
   "metadata": {
    "collapsed": false,
    "pycharm": {
     "name": "#%%\n"
    }
   }
  },
  {
   "cell_type": "code",
   "execution_count": 714,
   "outputs": [
    {
     "name": "stdout",
     "output_type": "stream",
     "text": [
      "<__main__.Singleton object at 0x000002487CAA50C0>\n",
      "<__main__.Singleton object at 0x000002487CAA50C0>\n"
     ]
    }
   ],
   "source": [
    "print(s1)\n",
    "print(s2)"
   ],
   "metadata": {
    "collapsed": false,
    "pycharm": {
     "name": "#%%\n"
    }
   }
  },
  {
   "cell_type": "code",
   "execution_count": 715,
   "outputs": [],
   "source": [
    "import datetime\n",
    "import os\n",
    "\n",
    "\n",
    "class MetaSingleton(type):\n",
    "    _instances = {}\n",
    "\n",
    "    def __call__(cls, *args, **kwargs):\n",
    "        if cls not in cls._instances:\n",
    "            cls._instances[cls] = super(MetaSingleton, cls).__call__(*args, **kwargs)\n",
    "        return cls._instances[cls]\n",
    "\n",
    "\n",
    "class Logger(metaclass=MetaSingleton):\n",
    "    now = datetime.datetime.now()\n",
    "    date_format, time_format = '%d.%m.%Y %H:%M:%S'.split()\n",
    "\n",
    "    def __init__(self, directory=None, filename=None):\n",
    "        self.__log_file = self.create_log_file(directory, filename)\n",
    "\n",
    "    def __get_date(self):\n",
    "        return self.__class__.now.strftime(self.__class__.date_format)\n",
    "\n",
    "    def __get_time(self):\n",
    "        return self.__class__.now.strftime(self.__class__.time_format)\n",
    "\n",
    "    def get_file_path(self, directory=None, filename=None):\n",
    "        if not directory:\n",
    "            directory = os.getcwd()\n",
    "        if not filename:\n",
    "            filename = '%s.log' % self.__get_date()\n",
    "        file_path = os.path.join(directory, filename)\n",
    "        return file_path\n",
    "\n",
    "    def create_log_file(self, directory=None, filename=None):\n",
    "        full_path = self.get_file_path(directory, filename)\n",
    "        try:\n",
    "            log_file = open(full_path, 'w').close()\n",
    "            return log_file\n",
    "        except Exception as e:\n",
    "            raise RuntimeError(\"Unable to open log file\")\n",
    "\n",
    "    def write_log(self, log_record):\n",
    "        now = str(self.__get_time())\n",
    "        record = '%s: %s\\n' % (now, log_record)\n",
    "        with open(self.get_file_path(), 'a') as file:\n",
    "            file.write(record)\n",
    "\n",
    "    def clear_log(self):\n",
    "        open(self.get_file_path(), 'w').close()\n",
    "\n",
    "    def get_logs(self):\n",
    "        with open(self.get_file_path(), 'r') as file:\n",
    "            lines = file.read().splitlines()\n",
    "            return lines\n",
    "\n",
    "    def get_last_event(self):\n",
    "        try:\n",
    "            return self.get_logs()[-1]\n",
    "        except Exception as e:\n",
    "            return 'This file is empty', e\n",
    "\n",
    "    @staticmethod\n",
    "    def get_all_logs(directory=None):\n",
    "        file_list = []\n",
    "        if not directory:\n",
    "            directory = os.getcwd()\n",
    "        for file in os.listdir(directory):\n",
    "            if file.endswith('.log'):\n",
    "                file_list.append(file)\n",
    "        return file_list"
   ],
   "metadata": {
    "collapsed": false,
    "pycharm": {
     "name": "#%%\n"
    }
   }
  },
  {
   "cell_type": "code",
   "execution_count": 716,
   "outputs": [
    {
     "name": "stdout",
     "output_type": "stream",
     "text": [
      "True\n"
     ]
    }
   ],
   "source": [
    "log1 = Logger()\n",
    "log2 = Logger()\n",
    "\n",
    "print(log1==log2)"
   ],
   "metadata": {
    "collapsed": false,
    "pycharm": {
     "name": "#%%\n"
    }
   }
  },
  {
   "cell_type": "code",
   "execution_count": 717,
   "outputs": [],
   "source": [
    "log1.write_log('hello!')\n",
    "log1.write_log('hello world!')"
   ],
   "metadata": {
    "collapsed": false,
    "pycharm": {
     "name": "#%%\n"
    }
   }
  },
  {
   "cell_type": "code",
   "execution_count": 718,
   "outputs": [
    {
     "data": {
      "text/plain": "['05:38:27: hello!', '05:38:27: hello world!']"
     },
     "execution_count": 718,
     "metadata": {},
     "output_type": "execute_result"
    }
   ],
   "source": [
    "log1.get_logs()"
   ],
   "metadata": {
    "collapsed": false,
    "pycharm": {
     "name": "#%%\n"
    }
   }
  },
  {
   "cell_type": "code",
   "execution_count": 719,
   "outputs": [
    {
     "data": {
      "text/plain": "'05:38:27: hello world!'"
     },
     "execution_count": 719,
     "metadata": {},
     "output_type": "execute_result"
    }
   ],
   "source": [
    "log1.get_last_event()"
   ],
   "metadata": {
    "collapsed": false,
    "pycharm": {
     "name": "#%%\n"
    }
   }
  },
  {
   "cell_type": "code",
   "execution_count": 720,
   "outputs": [
    {
     "data": {
      "text/plain": "['29.08.2022 — копия.log', '29.08.2022.log']"
     },
     "execution_count": 720,
     "metadata": {},
     "output_type": "execute_result"
    }
   ],
   "source": [
    "log1.get_all_logs()"
   ],
   "metadata": {
    "collapsed": false,
    "pycharm": {
     "name": "#%%\n"
    }
   }
  },
  {
   "cell_type": "code",
   "execution_count": 721,
   "outputs": [],
   "source": [
    "log1.clear_log()"
   ],
   "metadata": {
    "collapsed": false,
    "pycharm": {
     "name": "#%%\n"
    }
   }
  },
  {
   "cell_type": "code",
   "execution_count": 722,
   "outputs": [],
   "source": [
    "log1.write_log('hello!')\n",
    "log1.write_log('hello world!')"
   ],
   "metadata": {
    "collapsed": false,
    "pycharm": {
     "name": "#%%\n"
    }
   }
  },
  {
   "cell_type": "code",
   "execution_count": 723,
   "outputs": [
    {
     "data": {
      "text/plain": "['05:38:27: hello!', '05:38:27: hello world!']"
     },
     "execution_count": 723,
     "metadata": {},
     "output_type": "execute_result"
    }
   ],
   "source": [
    "log1.get_logs()"
   ],
   "metadata": {
    "collapsed": false,
    "pycharm": {
     "name": "#%%\n"
    }
   }
  }
 ],
 "metadata": {
  "kernelspec": {
   "display_name": "Python 3",
   "language": "python",
   "name": "python3"
  },
  "language_info": {
   "codemirror_mode": {
    "name": "ipython",
    "version": 2
   },
   "file_extension": ".py",
   "mimetype": "text/x-python",
   "name": "python",
   "nbconvert_exporter": "python",
   "pygments_lexer": "ipython2",
   "version": "2.7.6"
  }
 },
 "nbformat": 4,
 "nbformat_minor": 0
}