{
 "cells": [
  {
   "cell_type": "markdown",
   "metadata": {
    "collapsed": true,
    "pycharm": {
     "name": "#%% md\n"
    }
   },
   "source": [
    "# Задача 1. Минимизация гладкой функции"
   ]
  },
  {
   "cell_type": "markdown",
   "source": [
    "1. Рассмотрим все ту же функцию из задания по линейной алгебре: f(x) = sin(x / 5) * exp(x / 10) + 5 * exp(-x / 2), но теперь уже на промежутке [1, 30]\n",
    "1. В первом задании будем искать минимум этой функции на заданном промежутке с помощью scipy.optimize. Разумеется, в дальнейшем вы будете использовать методы оптимизации для более сложных функций, а f(x) мы рассмотрим как удобный учебный пример.\n",
    "1. Напишите на Питоне функцию, вычисляющую значение f(x) по известному x. Будьте внимательны: не забывайте про то, что по умолчанию в питоне целые числа делятся нацело, и о том, что функции sin и exp нужно импортировать из модуля math.\n",
    "1. Изучите примеры использования scipy.optimize.minimize в документации Scipy (см. \"Материалы\")\n",
    "1. Попробуйте найти минимум, используя стандартные параметры в функции scipy.optimize.minimize (т.е. задав только функцию и начальное приближение). Попробуйте менять начальное приближение и изучить, меняется ли результат.\n",
    "1. Укажите в scipy.optimize.minimize в качестве метода BFGS (один из самых точных в большинстве случаев градиентных методов оптимизации), запустите из начального приближения x=2. Градиент функции при этом указывать не нужно – он будет оценен численно. Полученное значение функции в точке минимума - ваш первый ответ по заданию 1, его надо записать с точностью до 2 знака после запятой.\n",
    "1. Теперь измените начальное приближение на x=30. Значение функции в точке минимума - ваш второй ответ по заданию 1, его надо записать через пробел после первого, с точностью до 2 знака после запятой.\n",
    "1. Стоит обдумать полученный результат. Почему ответ отличается в зависимости от начального приближения? Если нарисовать график функции (например, как это делалось в видео, где мы знакомились с Numpy, Scipy и Matplotlib), можно увидеть, в какие именно минимумы мы попали. В самом деле, градиентные методы обычно не решают задачу глобальной оптимизации, поэтому результаты работы ожидаемые и вполне корректные."
   ],
   "metadata": {
    "collapsed": false
   }
  },
  {
   "cell_type": "code",
   "execution_count": 29,
   "outputs": [],
   "source": [
    "import numpy as np\n",
    "import math\n",
    "import pylab\n",
    "import matplotlib.pyplot as plt"
   ],
   "metadata": {
    "collapsed": false,
    "pycharm": {
     "name": "#%%\n"
    }
   }
  },
  {
   "cell_type": "code",
   "execution_count": 30,
   "outputs": [],
   "source": [
    "# Описание исходной функции f(x) = sin(x / 5) * exp(x / 10) + 5 * exp(-x / 2)\n",
    "def func(x):\n",
    "    return math.sin(x / 5) * math.exp(x / 10) + 5 * math.exp(-x / 2)"
   ],
   "metadata": {
    "collapsed": false,
    "pycharm": {
     "name": "#%%\n"
    }
   }
  },
  {
   "cell_type": "code",
   "execution_count": 31,
   "outputs": [
    {
     "data": {
      "text/plain": "<Figure size 432x288 with 1 Axes>",
      "image/png": "[encoded data removed]"
     },
     "metadata": {
      "needs_background": "light"
     },
     "output_type": "display_data"
    }
   ],
   "source": [
    "# Создадим область определения и отрисуем функцию\n",
    "x_min = 1\n",
    "x_max = 30\n",
    "dx = 0.01\n",
    "\n",
    "# Создадим список координат\n",
    "x_list = np.arange(x_min, x_max, dx)\n",
    "y_list = [func(x) for x in x_list]\n",
    "\n",
    "# Нарисуем график\n",
    "plt.plot(x_list, y_list)\n",
    "\n",
    "# Покажем окно с нарисованным графиком\n",
    "plt.grid(True)\n",
    "plt.show()"
   ],
   "metadata": {
    "collapsed": false,
    "pycharm": {
     "name": "#%%\n"
    }
   }
  },
  {
   "cell_type": "code",
   "execution_count": 32,
   "outputs": [
    {
     "name": "stdout",
     "output_type": "stream",
     "text": [
      "[4.13628824] 1.7452682903319903 True 18 8\n",
      "[4.13628697] 1.745268290332218 True 16 7\n",
      "[4.13627628] 1.7452682903447336 True 14 6\n",
      "[4.13623323] 1.7452682905867012 True 12 5\n",
      "[4.13625735] 1.7452682904133416 True 10 4\n",
      "[4.13628832] 1.745268290331984 True 14 6\n",
      "[4.13628982] 1.7452682903320773 True 16 5\n",
      "[4.13628939] 1.7452682903320125 True 20 5\n",
      "[4.13628868] 1.7452682903319725 True 18 5\n",
      "[4.13630225] 1.7452682903471772 True 22 4\n",
      "[4.13630023] 1.7452682903429801 True 26 3\n",
      "[25.88019285] -11.898894665981311 True 42 2\n",
      "[25.88019172] -11.898894665980812 True 24 4\n",
      "[88.71203605] -6371.765229165741 True 50 4\n",
      "[25.88019315] -11.898894665981317 True 16 2\n",
      "[24.67766109] -11.503580757136064 False 44 1\n",
      "[25.88019877] -11.898894665971541 True 16 2\n",
      "[25.88017663] -11.898894665901345 True 22 6\n",
      "[25.88019851] -11.8988946659724 True 18 6\n",
      "[25.88017637] -11.898894665898753 True 16 5\n",
      "[25.88018742] -11.898894665971952 True 14 4\n",
      "[25.88020587] -11.898894665932263 True 14 5\n",
      "[25.88019422] -11.898894665980901 True 14 6\n",
      "[25.88019285] -11.898894665981311 True 14 6\n",
      "[25.88019491] -11.898894665980267 True 12 5\n",
      "[25.88018592] -11.89889466596626 True 10 4\n",
      "[25.8801953] -11.898894665979789 True 8 3\n",
      "[25.88019774] -11.898894665974735 True 10 4\n",
      "[25.88019333] -11.898894665981295 True 12 5\n",
      "[25.88020429] -11.89889466594364 True 12 5\n"
     ]
    }
   ],
   "source": [
    "from scipy.optimize import minimize\n",
    "\n",
    "min1_x0 = range(30)\n",
    "min1_x_list = list()\n",
    "min1_y_list = list()\n",
    "for x0 in min1_x0:\n",
    "    m = minimize(func, x0)\n",
    "    print(m.x, m.fun, m.success, m.nfev, m.nit)\n",
    "    if (m.x <= 30) & (m.success == True):\n",
    "        min1_x_list.append(x0)\n",
    "        min1_y_list.append(m.fun)"
   ],
   "metadata": {
    "collapsed": false,
    "pycharm": {
     "name": "#%%\n"
    }
   }
  },
  {
   "cell_type": "code",
   "execution_count": 33,
   "outputs": [
    {
     "data": {
      "text/plain": "<Figure size 432x288 with 1 Axes>",
      "image/png": "[encoded data removed]"
     },
     "metadata": {
      "needs_background": "light"
     },
     "output_type": "display_data"
    }
   ],
   "source": [
    "plt.plot(x_list, y_list, min1_x_list, min1_y_list)\n",
    "plt.show()"
   ],
   "metadata": {
    "collapsed": false,
    "pycharm": {
     "name": "#%%\n"
    }
   }
  },
  {
   "cell_type": "markdown",
   "source": [
    "Укажем в качестве метода BFGS (один из самых точных в большинстве случаев градиентных методов оптимизации) и начальное приближение x=2. Градиент функции при этом указывать не нужно – он будет оценен численно. Полученное значение функции в точке минимума - первый ответ по заданию 1, его надо записать с точностью до 2 знака после запятой\n"
   ],
   "metadata": {
    "collapsed": false
   }
  },
  {
   "cell_type": "code",
   "execution_count": 34,
   "outputs": [
    {
     "name": "stdout",
     "output_type": "stream",
     "text": [
      "Answer1= 1.75\n"
     ]
    }
   ],
   "source": [
    "min2_x0 = 2\n",
    "min_1 = minimize(func, min2_x0, method='BFGS')\n",
    "ans1 = round(min_1.fun, 2)\n",
    "print(\"Answer1=\", ans1)"
   ],
   "metadata": {
    "collapsed": false,
    "pycharm": {
     "name": "#%%\n"
    }
   }
  },
  {
   "cell_type": "code",
   "execution_count": 35,
   "outputs": [
    {
     "name": "stdout",
     "output_type": "stream",
     "text": [
      "Answer2= -11.9\n"
     ]
    }
   ],
   "source": [
    "min3_x0 = 30\n",
    "min_2 = minimize(func, min3_x0, method='BFGS')\n",
    "ans2 = round(min_2.fun, 2)\n",
    "print(\"Answer2=\", ans2)"
   ],
   "metadata": {
    "collapsed": false,
    "pycharm": {
     "name": "#%%\n"
    }
   }
  },
  {
   "cell_type": "code",
   "execution_count": 36,
   "outputs": [
    {
     "data": {
      "text/plain": "'1.75 -11.9'"
     },
     "execution_count": 36,
     "metadata": {},
     "output_type": "execute_result"
    }
   ],
   "source": [
    "answer = '{} {}'.format(ans1, ans2)\n",
    "with open('3.2hw.txt', 'w') as output_file:\n",
    "  output_file.write(answer)\n",
    "answer"
   ],
   "metadata": {
    "collapsed": false,
    "pycharm": {
     "name": "#%%\n"
    }
   }
  }
 ],
 "metadata": {
  "kernelspec": {
   "display_name": "Python 3",
   "language": "python",
   "name": "python3"
  },
  "language_info": {
   "codemirror_mode": {
    "name": "ipython",
    "version": 2
   },
   "file_extension": ".py",
   "mimetype": "text/x-python",
   "name": "python",
   "nbconvert_exporter": "python",
   "pygments_lexer": "ipython2",
   "version": "2.7.6"
  }
 },
 "nbformat": 4,
 "nbformat_minor": 0
}