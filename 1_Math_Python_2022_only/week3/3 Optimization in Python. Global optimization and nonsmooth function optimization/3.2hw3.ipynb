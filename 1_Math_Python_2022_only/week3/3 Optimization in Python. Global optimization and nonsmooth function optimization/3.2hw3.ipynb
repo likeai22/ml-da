{
 "cells": [
  {
   "cell_type": "markdown",
   "metadata": {
    "collapsed": true,
    "pycharm": {
     "name": "#%% md\n"
    }
   },
   "source": [
    "# Задача 3. Минимизация негладкой функции"
   ]
  },
  {
   "cell_type": "markdown",
   "source": [
    "1. Теперь рассмотрим функцию h(x) = int(f(x)) на том же отрезке [1, 30], т.е. теперь каждое значение f(x) приводится к типу int и функция принимает только целые значения.\n",
    "1. Такая функция будет негладкой и даже разрывной, а ее график будет иметь ступенчатый вид. Убедитесь в этом, построив график h(x) с помощью matplotlib.\n",
    "1. Попробуйте найти минимум функции h(x) с помощью BFGS, взяв в качестве начального приближения x=30. Получившееся значение функции – ваш первый ответ в этой задаче.\n",
    "1. Теперь попробуйте найти минимум h(x) на отрезке [1, 30] с помощью дифференциальной эволюции. Значение функции h(x) в точке минимума – это ваш второй ответ в этом задании. Запишите его через пробел после предыдущего.\n",
    "1. Обратите внимание на то, что полученные ответы различаются. Это ожидаемый результат, ведь BFGS использует градиент (в одномерном случае – производную) и явно не пригоден для минимизации рассмотренной нами разрывной функции. Попробуйте понять, почему минимум, найденный BFGS, именно такой (возможно в этом вам поможет выбор разных начальных приближений).\n",
    "1. Выполнив это задание, вы увидели на практике, чем поиск минимума функции отличается от глобальной оптимизации, и когда может быть полезно применить вместо градиентного метода оптимизации метод, не использующий градиент. Кроме того, вы попрактиковались в использовании библиотеки SciPy для решения оптимизационных задач, и теперь знаете, насколько это просто и удобно."
   ],
   "metadata": {
    "collapsed": false,
    "pycharm": {
     "name": "#%% md\n"
    }
   }
  },
  {
   "cell_type": "code",
   "execution_count": 25,
   "outputs": [],
   "source": [
    "import numpy as np\n",
    "import math\n",
    "import matplotlib.pyplot as plt\n",
    "from scipy.optimize import minimize, differential_evolution"
   ],
   "metadata": {
    "collapsed": false,
    "pycharm": {
     "name": "#%%\n"
    }
   }
  },
  {
   "cell_type": "code",
   "execution_count": 26,
   "outputs": [],
   "source": [
    "def func(x):\n",
    "    return math.sin(x / 5) * math.exp(x / 10) + 5 * math.exp(-x / 2)"
   ],
   "metadata": {
    "collapsed": false,
    "pycharm": {
     "name": "#%%\n"
    }
   }
  },
  {
   "cell_type": "code",
   "execution_count": 27,
   "outputs": [],
   "source": [
    "def h(x):\n",
    "    return int(func(x))"
   ],
   "metadata": {
    "collapsed": false,
    "pycharm": {
     "name": "#%%\n"
    }
   }
  },
  {
   "cell_type": "code",
   "execution_count": 28,
   "outputs": [
    {
     "data": {
      "text/plain": "<Figure size 432x288 with 1 Axes>",
      "image/png": "[encoded data removed]"
     },
     "metadata": {
      "needs_background": "light"
     },
     "output_type": "display_data"
    }
   ],
   "source": [
    "# Создадим область определения и нарисуем функцию\n",
    "x_min = 1\n",
    "x_max = 30\n",
    "dx = 0.01\n",
    "\n",
    "# Создадим список координат\n",
    "x_list = np.arange(x_min, x_max, dx)\n",
    "y_list = [h(x) for x in x_list]\n",
    "\n",
    "# Нарисуем график\n",
    "plt.plot(x_list, y_list)\n",
    "\n",
    "# Покажем окно с нарисованным графиком\n",
    "plt.grid(True)\n",
    "plt.show()"
   ],
   "metadata": {
    "collapsed": false,
    "pycharm": {
     "name": "#%%\n"
    }
   }
  },
  {
   "cell_type": "code",
   "execution_count": 29,
   "outputs": [
    {
     "data": {
      "text/plain": "[<matplotlib.lines.Line2D at 0x1a29811ae20>]"
     },
     "execution_count": 29,
     "metadata": {},
     "output_type": "execute_result"
    },
    {
     "data": {
      "text/plain": "<Figure size 432x288 with 1 Axes>",
      "image/png": "[encoded data removed]"
     },
     "metadata": {
      "needs_background": "light"
     },
     "output_type": "display_data"
    }
   ],
   "source": [
    "y = list(map(func, x_list))\n",
    "y_int = list(map(h, x_list))\n",
    "plt.plot(x_list, y)\n",
    "plt.plot(x_list, y_int)"
   ],
   "metadata": {
    "collapsed": false,
    "pycharm": {
     "name": "#%%\n"
    }
   }
  },
  {
   "cell_type": "code",
   "execution_count": 30,
   "outputs": [
    {
     "data": {
      "text/plain": "      fun: -5\n hess_inv: array([[1]])\n      jac: array([0.])\n  message: 'Optimization terminated successfully.'\n     nfev: 2\n      nit: 0\n     njev: 1\n   status: 0\n  success: True\n        x: array([30.])"
     },
     "execution_count": 30,
     "metadata": {},
     "output_type": "execute_result"
    }
   ],
   "source": [
    "minimize(h, 30, method='BFGS')"
   ],
   "metadata": {
    "collapsed": false,
    "pycharm": {
     "name": "#%%\n"
    }
   }
  },
  {
   "cell_type": "code",
   "execution_count": 31,
   "outputs": [
    {
     "data": {
      "text/plain": "     fun: -11.0\n message: 'Optimization terminated successfully.'\n    nfev: 92\n     nit: 5\n success: True\n       x: array([26.44168958])"
     },
     "execution_count": 31,
     "metadata": {},
     "output_type": "execute_result"
    }
   ],
   "source": [
    "bounds = [(1, 30)]\n",
    "differential_evolution(h, bounds)"
   ],
   "metadata": {
    "collapsed": false,
    "pycharm": {
     "name": "#%%\n"
    }
   }
  },
  {
   "cell_type": "code",
   "execution_count": 32,
   "outputs": [
    {
     "name": "stdout",
     "output_type": "stream",
     "text": [
      "Answer1= -5\n"
     ]
    }
   ],
   "source": [
    "x0 = 30\n",
    "result = minimize(h, x0, method='BFGS')\n",
    "ans1 = round(result.fun, 2)\n",
    "print(\"Answer1=\", ans1)"
   ],
   "metadata": {
    "collapsed": false,
    "pycharm": {
     "name": "#%%\n"
    }
   }
  },
  {
   "cell_type": "code",
   "execution_count": 33,
   "outputs": [
    {
     "name": "stdout",
     "output_type": "stream",
     "text": [
      "[5.12589894e-05] 4.0 True 22 1\n",
      "[1.] 3 True 2 0\n",
      "[2.] 2 True 2 0\n",
      "[3.] 1 True 2 0\n",
      "[4.] 1 True 2 0\n",
      "[5.] 1 True 2 0\n",
      "[6.] 1 True 2 0\n",
      "[7.] 2 True 2 0\n",
      "[8.] 2 True 2 0\n",
      "[9.] 2 True 2 0\n",
      "[10.] 2 True 2 0\n",
      "[11.] 2 True 2 0\n",
      "[12.] 2 True 2 0\n",
      "[13.] 1 True 2 0\n",
      "[14.] 1 True 2 0\n",
      "[15.] 0 True 2 0\n",
      "[16.] 0 True 2 0\n",
      "[17.] -1 True 2 0\n",
      "[18.] -2 True 2 0\n",
      "[19.] -4 True 2 0\n",
      "[20.] -5 True 2 0\n",
      "[21.] -7 True 2 0\n",
      "[22.] -8 True 2 0\n",
      "[23.] -9 True 2 0\n",
      "[24.] -10 True 2 0\n",
      "[25.] -11 True 2 0\n",
      "[26.] -11 True 2 0\n",
      "[27.] -11 True 2 0\n",
      "[28.] -10 True 2 0\n",
      "[29.] -8 True 2 0\n"
     ]
    }
   ],
   "source": [
    "min1_x0 = range(30)\n",
    "min1_x_list = list()\n",
    "min1_y_list = list()\n",
    "for x0 in min1_x0:\n",
    "    m = minimize(h, x0)\n",
    "    print(m.x, m.fun, m.success, m.nfev, m.nit)\n",
    "    if (m.x <= 30) & (m.success == True):\n",
    "        min1_x_list.append(x0)\n",
    "        min1_y_list.append(m.fun)"
   ],
   "metadata": {
    "collapsed": false,
    "pycharm": {
     "name": "#%%\n"
    }
   }
  },
  {
   "cell_type": "code",
   "execution_count": 34,
   "outputs": [
    {
     "data": {
      "text/plain": "<Figure size 432x288 with 1 Axes>",
      "image/png": "[encoded data removed]"
     },
     "metadata": {
      "needs_background": "light"
     },
     "output_type": "display_data"
    }
   ],
   "source": [
    "plt.plot(x_list, y_list, min1_x_list, min1_y_list)\n",
    "plt.show()"
   ],
   "metadata": {
    "collapsed": false,
    "pycharm": {
     "name": "#%%\n"
    }
   }
  },
  {
   "cell_type": "code",
   "execution_count": 35,
   "outputs": [
    {
     "name": "stdout",
     "output_type": "stream",
     "text": [
      "[24.21721843] -11.0 107 6\n",
      "Answer2= -11.0\n"
     ]
    }
   ],
   "source": [
    "bounds = [(1, 30)]\n",
    "result = differential_evolution(h, bounds)\n",
    "print(result.x, result.fun, result.nfev, result.nit)\n",
    "ans2 = round(result.fun, 2)\n",
    "print(\"Answer2=\", ans2)"
   ],
   "metadata": {
    "collapsed": false,
    "pycharm": {
     "name": "#%%\n"
    }
   }
  },
  {
   "cell_type": "code",
   "execution_count": 36,
   "outputs": [
    {
     "data": {
      "text/plain": "'-5 -11.0'"
     },
     "execution_count": 36,
     "metadata": {},
     "output_type": "execute_result"
    }
   ],
   "source": [
    "answer = '{} {}'.format(ans1, ans2)\n",
    "with open('3.2hw3.txt', 'w') as f:\n",
    "    f.write(answer)\n",
    "answer\n"
   ],
   "metadata": {
    "collapsed": false,
    "pycharm": {
     "name": "#%%\n"
    }
   }
  }
 ],
 "metadata": {
  "kernelspec": {
   "display_name": "Python 3",
   "language": "python",
   "name": "python3"
  },
  "language_info": {
   "codemirror_mode": {
    "name": "ipython",
    "version": 2
   },
   "file_extension": ".py",
   "mimetype": "text/x-python",
   "name": "python",
   "nbconvert_exporter": "python",
   "pygments_lexer": "ipython2",
   "version": "2.7.6"
  }
 },
 "nbformat": 4,
 "nbformat_minor": 0
}