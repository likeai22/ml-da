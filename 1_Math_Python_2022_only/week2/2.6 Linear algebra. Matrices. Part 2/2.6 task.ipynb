{
 "cells": [
  {
   "cell_type": "code",
   "execution_count": 136,
   "metadata": {},
   "outputs": [],
   "source": [
    "import matplotlib.pyplot as plt\n",
    "import numpy as np\n",
    "from scipy import linalg\n",
    "%matplotlib inline\n"
   ]
  },
  {
   "cell_type": "code",
   "execution_count": 137,
   "metadata": {
    "pycharm": {
     "name": "#%%\n"
    }
   },
   "outputs": [
    {
     "data": {
      "text/plain": "array([ 3.43914511, -0.18692825])"
     },
     "execution_count": 137,
     "metadata": {},
     "output_type": "execute_result"
    }
   ],
   "source": [
    "A1 = np.array([[1., 1.], [1., 15.]])\n",
    "b1 = np.array([3.252216865271419, 0.6352214195786656])\n",
    "linalg.solve(A1, b1)"
   ]
  },
  {
   "cell_type": "code",
   "execution_count": 138,
   "outputs": [],
   "source": [
    "f_x = lambda x: np.sin(x / 5.0) * np.exp(x / 10.0) + 5 * np.exp(-x / 2.0)\n",
    "\n",
    "poly_degree = 1\n",
    "A_1 = [\n",
    "    [1 ** n for n in range(0, poly_degree + 1)],\n",
    "    [15 ** n for n in range(0, poly_degree + 1)]\n",
    "]\n",
    "b_1 = [f_x(1), f_x(15)]\n",
    "\n",
    "poly_degree = 2\n",
    "A_2 = [\n",
    "    [1 ** n for n in range(0, poly_degree + 1)],\n",
    "    [8 ** n for n in range(0, poly_degree + 1)],\n",
    "    [15 ** n for n in range(0, poly_degree + 1)]\n",
    "]\n",
    "b_2 = [f_x(1), f_x(8), f_x(15)]\n",
    "\n",
    "poly_degree = 3\n",
    "A_3 = [\n",
    "    [1 ** n for n in range(0, poly_degree + 1)],\n",
    "    [4 ** n for n in range(0, poly_degree + 1)],\n",
    "    [10 ** n for n in range(0, poly_degree + 1)],\n",
    "    [15 ** n for n in range(0, poly_degree + 1)]\n",
    "]\n",
    "b_3 = [f_x(1), f_x(4), f_x(10), f_x(15)]"
   ],
   "metadata": {
    "collapsed": false,
    "pycharm": {
     "name": "#%%\n"
    }
   }
  },
  {
   "cell_type": "code",
   "execution_count": 139,
   "outputs": [
    {
     "data": {
      "text/plain": "[3.44, -0.19]"
     },
     "execution_count": 139,
     "metadata": {},
     "output_type": "execute_result"
    }
   ],
   "source": [
    "x_1 = linalg.solve(A_1, b_1)\n",
    "list(map(lambda x: x.round(2), x_1))"
   ],
   "metadata": {
    "collapsed": false,
    "pycharm": {
     "name": "#%%\n"
    }
   }
  },
  {
   "cell_type": "code",
   "execution_count": 140,
   "outputs": [
    {
     "data": {
      "text/plain": "[3.33, -0.07, -0.01]"
     },
     "execution_count": 140,
     "metadata": {},
     "output_type": "execute_result"
    }
   ],
   "source": [
    "x_2 = linalg.solve(A_2, b_2)\n",
    "list(map(lambda x: x.round(2), x_2))"
   ],
   "metadata": {
    "collapsed": false,
    "pycharm": {
     "name": "#%%\n"
    }
   }
  },
  {
   "cell_type": "code",
   "execution_count": 141,
   "outputs": [
    {
     "data": {
      "text/plain": "[4.36, -1.3, 0.19, -0.01]"
     },
     "execution_count": 141,
     "metadata": {},
     "output_type": "execute_result"
    }
   ],
   "source": [
    "x_3 = linalg.solve(A_3, b_3)\n",
    "list(map(lambda x: x.round(2), x_3))"
   ],
   "metadata": {
    "collapsed": false,
    "pycharm": {
     "name": "#%%\n"
    }
   }
  },
  {
   "cell_type": "code",
   "execution_count": 142,
   "outputs": [],
   "source": [
    "x = np.arange(1, 15, 0.1)\n",
    "y_0 = np.sin(x/5) * np.exp(x/10) + 5 * np.exp(-x/2)\n",
    "y_1 = x_1[0] + x * x_1[1]\n",
    "y_2 = x_2[0] + x * x_2[1] +x_2[2] * (x**2)\n",
    "y_3 = x_3[0] + x * x_3[1] +x_3[2] * (x**2) + x_3[3] * (x**3)\n"
   ],
   "metadata": {
    "collapsed": false,
    "pycharm": {
     "name": "#%%\n"
    }
   }
  },
  {
   "cell_type": "code",
   "execution_count": 143,
   "outputs": [],
   "source": [
    "k = 0\n",
    "for i in x_3:\n",
    "    i = round(i,2)\n",
    "    x_3[k] = i\n",
    "    k += 1\n",
    "st = ' '.join(str(v) for v in x_3)\n",
    "\n",
    "with open('task-2.txt', 'w' ,encoding = 'utf-8') as f:\n",
    "    f.write(st)"
   ],
   "metadata": {
    "collapsed": false,
    "pycharm": {
     "name": "#%%\n"
    }
   }
  },
  {
   "cell_type": "code",
   "execution_count": 143,
   "outputs": [],
   "source": [],
   "metadata": {
    "collapsed": false,
    "pycharm": {
     "name": "#%%\n"
    }
   }
  },
  {
   "cell_type": "code",
   "execution_count": 144,
   "outputs": [
    {
     "data": {
      "text/plain": "<Figure size 432x288 with 1 Axes>",
      "image/png": "[encoded data removed]"
     },
     "metadata": {
      "needs_background": "light"
     },
     "output_type": "display_data"
    }
   ],
   "source": [
    "def plot(y):\n",
    "    x_main = np.arange(1, 15, 0.1)\n",
    "    y_main = np.sin(x/5) * np.exp(x/10) + 5 * np.exp(-x/2)\n",
    "    plt.plot(x_main, y_main, x_main, y)\n",
    "    plt.xlabel(r'$x$')\n",
    "    plt.ylabel(r'$f(x)$')\n",
    "    plt.grid(True)\n",
    "    plt.show()\n",
    "\n",
    "plot(y_3)"
   ],
   "metadata": {
    "collapsed": false,
    "pycharm": {
     "name": "#%%\n"
    }
   }
  }
 ],
 "metadata": {
  "kernelspec": {
   "display_name": "Python 3 (ipykernel)",
   "language": "python",
   "name": "python3"
  },
  "language_info": {
   "codemirror_mode": {
    "name": "ipython",
    "version": 3
   },
   "file_extension": ".py",
   "mimetype": "text/x-python",
   "name": "python",
   "nbconvert_exporter": "python",
   "pygments_lexer": "ipython3",
   "version": "3.8.5"
  }
 },
 "nbformat": 4,
 "nbformat_minor": 1
}