{
 "cells": [
  {
   "cell_type": "code",
   "execution_count": 70,
   "metadata": {},
   "outputs": [],
   "source": [
    "import matplotlib.pyplot as plt\n",
    "import numpy as np\n",
    "import scipy as sp\n",
    "from scipy import linalg\n",
    "%matplotlib inline\n"
   ]
  },
  {
   "cell_type": "code",
   "execution_count": 71,
   "metadata": {
    "pycharm": {
     "name": "#%%\n"
    }
   },
   "outputs": [
    {
     "data": {
      "text/plain": "array([ 3.43914511, -0.18692825])"
     },
     "execution_count": 71,
     "metadata": {},
     "output_type": "execute_result"
    }
   ],
   "source": [
    "A1 = np.array([[1., 1.], [1., 15.]])\n",
    "b1 = np.array([3.252216865271419, 0.6352214195786656])\n",
    "linalg.solve(A1, b1)"
   ]
  },
  {
   "cell_type": "code",
   "execution_count": 72,
   "metadata": {},
   "outputs": [],
   "source": [
    "def func(x):\n",
    "    return np.sin(x / 5) * np.exp(x / 10) + 5 * np.exp(-x / 2)"
   ]
  },
  {
   "cell_type": "code",
   "execution_count": 73,
   "metadata": {
    "pycharm": {
     "name": "#%%\n"
    }
   },
   "outputs": [],
   "source": [
    "def solve_func_by_poly(x_list, func):\n",
    "    dim = len(x_list)\n",
    "    x_vector = np.array(x_list).reshape(dim, 1)\n",
    "    y_vector = np.array(func(x_vector))\n",
    "    x_matrix = x_vector ** np.arange(dim)\n",
    "    print('dim', dim)\n",
    "    print('x_vector', x_vector)\n",
    "    print('y_vector', y_vector)\n",
    "    print('x_matrix', x_matrix)\n",
    "    print('********************')\n",
    "    print('np.array(x_list)', np.array(x_list))\n",
    "    print('np.arange(dim)', np.arange(dim))\n",
    "    return sp.linalg.solve(x_matrix, y_vector)"
   ]
  },
  {
   "cell_type": "code",
   "execution_count": 74,
   "metadata": {
    "pycharm": {
     "name": "#%%\n"
    }
   },
   "outputs": [],
   "source": [
    "def result_func(c, x):\n",
    "    sum = 0\n",
    "    for i in range(len(c)):\n",
    "        sum += x ** i * c[i]\n",
    "    return sum"
   ]
  },
  {
   "cell_type": "code",
   "execution_count": 75,
   "metadata": {
    "pycharm": {
     "name": "#%%\n"
    }
   },
   "outputs": [],
   "source": [
    "def make_beaty(x_tuple, x):\n",
    "    dim = len(x_tuple)\n",
    "    # print(dim)\n",
    "    result = solve_func_by_poly(x_tuple, func).reshape(1, dim)[0]\n",
    "    # print(result)\n",
    "    plt.plot(x, result_func(result, x))\n",
    "    plt.plot(x, func(x))\n",
    "    plt.grid(True) #Сетка\n",
    "    plt.show()\n",
    "    return result"
   ]
  },
  {
   "cell_type": "code",
   "execution_count": 76,
   "metadata": {
    "pycharm": {
     "name": "#%%\n"
    }
   },
   "outputs": [
    {
     "name": "stdout",
     "output_type": "stream",
     "text": [
      "dim 3\n",
      "x_vector [[ 1]\n",
      " [ 8]\n",
      " [15]]\n",
      "y_vector [[3.25221687]\n",
      " [2.31617016]\n",
      " [0.63522142]]\n",
      "x_matrix [[  1   1   1]\n",
      " [  1   8  64]\n",
      " [  1  15 225]]\n",
      "********************\n",
      "np.array(x_list) [ 1  8 15]\n",
      "np.arange(dim) [0 1 2]\n"
     ]
    },
    {
     "data": {
      "text/plain": "<Figure size 432x288 with 1 Axes>",
      "image/png": "[encoded data removed]"
     },
     "metadata": {
      "needs_background": "light"
     },
     "output_type": "display_data"
    },
    {
     "data": {
      "text/plain": "array([ 3.32512949, -0.06531159, -0.00760104])"
     },
     "execution_count": 76,
     "metadata": {},
     "output_type": "execute_result"
    }
   ],
   "source": [
    "x_work = [1, 8, 15]\n",
    "x = np.arange(0, 16, 0.5)\n",
    "\n",
    "make_beaty(x_work, x)"
   ]
  },
  {
   "cell_type": "code",
   "execution_count": 77,
   "metadata": {
    "pycharm": {
     "name": "#%%\n"
    }
   },
   "outputs": [],
   "source": [
    "# A = [[1, 1, 1, 1],\n",
    "#         [1, 4, 16, 64],\n",
    "#         [1, 10, 100, 1000],\n",
    "#         [1, 15, 225, 3375]]\n",
    "# b = [f(1), f(4), f(10), f(15)]"
   ]
  },
  {
   "cell_type": "code",
   "execution_count": 78,
   "outputs": [
    {
     "data": {
      "text/plain": "<Figure size 432x288 with 1 Axes>",
      "image/png": "[encoded data removed]"
     },
     "metadata": {
      "needs_background": "light"
     },
     "output_type": "display_data"
    }
   ],
   "source": [
    "x1 = np.arange(1, 16, 0.1)\n",
    "y1 = func(x1)\n",
    "plt.plot(x1, y1)\n",
    "plt.show()\n"
   ],
   "metadata": {
    "collapsed": false,
    "pycharm": {
     "name": "#%%\n"
    }
   }
  },
  {
   "cell_type": "code",
   "execution_count": 79,
   "outputs": [],
   "source": [
    "a = np.array([[1., 1.], [1., 15.]])\n",
    "b = np.array([func(1.), func(15.)])\n",
    "xpol1 = np.linalg.solve(a, b)\n",
    "a1 = np.array([[1., 1., 1.], [1., 8., 64.], [1., 15., 225.]])\n",
    "b1 = np.array([func(1.), func(8.), func(15.)])\n",
    "xpol2 = np.linalg.solve(a1,b1)\n",
    "a2 = np.array([[1., 1., 1., 1.], [1., 4., 16., 64.], [1., 10., 100., 1000.], [1., 15., 225., 3375.]])\n",
    "b2 = np.array([func(1.), func(4.), func(10.), func(15.)])\n",
    "xpol3 = np.linalg.solve(a2,b2)"
   ],
   "metadata": {
    "collapsed": false,
    "pycharm": {
     "name": "#%%\n"
    }
   }
  },
  {
   "cell_type": "code",
   "execution_count": 80,
   "outputs": [],
   "source": [
    "def f1(x):\n",
    "    return xpol1[0] + xpol1[1] * x\n",
    "def f2(x):\n",
    "    return xpol2[0] + xpol2[1] * x + xpol2[2] * x ** 2\n",
    "def f3(x):\n",
    "    return xpol3[0] + xpol3[1] * x + xpol3[2] * x ** 2 + xpol3[3] * x ** 3"
   ],
   "metadata": {
    "collapsed": false,
    "pycharm": {
     "name": "#%%\n"
    }
   }
  },
  {
   "cell_type": "code",
   "execution_count": 81,
   "outputs": [
    {
     "data": {
      "text/plain": "<Figure size 432x288 with 1 Axes>",
      "image/png": "[encoded data removed]"
     },
     "metadata": {
      "needs_background": "light"
     },
     "output_type": "display_data"
    }
   ],
   "source": [
    "x1 = np.arange(1, 15, 0.01)\n",
    "y1 = func(x1)\n",
    "y2 = f1(x1)\n",
    "y3 = f2(x1)\n",
    "y4 = f3(x1)\n",
    "plt.plot(x1, y1, x1, y2, x1, y3, x1, y4)\n",
    "plt.xlabel(r'$x$') #Метка по оси x в формате TeX\n",
    "plt.ylabel(r'$f(x)$') #Метка по оси y в формате TeX\n",
    "plt.grid(True)\n",
    "plt.show()"
   ],
   "metadata": {
    "collapsed": false,
    "pycharm": {
     "name": "#%%\n"
    }
   }
  },
  {
   "cell_type": "code",
   "execution_count": 89,
   "outputs": [
    {
     "data": {
      "text/plain": "[3.44, -0.19]"
     },
     "execution_count": 89,
     "metadata": {},
     "output_type": "execute_result"
    }
   ],
   "source": [
    "f_x = lambda x: np.sin(x / 5.0) * np.exp(x / 10.0) + 5 * np.exp(-x / 2.0)\n",
    "\n",
    "polynom_rank = 1\n",
    "A_1 = [\n",
    "    [1 ** n for n in range(0, polynom_rank + 1)],\n",
    "    [15 ** n for n in range(0, polynom_rank + 1)]\n",
    "]\n",
    "\n",
    "b_1 = [f_x(1), f_x(15)]\n",
    "\n",
    "polynom_rank = 2\n",
    "A_2 = [\n",
    "    [1 ** n for n in range(0, polynom_rank + 1)],\n",
    "    [8 ** n for n in range(0, polynom_rank + 1)],\n",
    "    [15 ** n for n in range(0, polynom_rank + 1)]\n",
    "]\n",
    "\n",
    "b_2 = [f_x(1), f_x(8), f_x(15)]\n",
    "\n",
    "polynom_rank = 3\n",
    "A_3 = [\n",
    "    [1 ** n for n in range(0, polynom_rank + 1)],\n",
    "    [4 ** n for n in range(0, polynom_rank + 1)],\n",
    "    [10 ** n for n in range(0, polynom_rank + 1)],\n",
    "    [15 ** n for n in range(0, polynom_rank + 1)]\n",
    "]\n",
    "\n",
    "b_3 = [f_x(1), f_x(4), f_x(10), f_x(15)]"
   ],
   "metadata": {
    "collapsed": false,
    "pycharm": {
     "name": "#%%\n"
    }
   }
  },
  {
   "cell_type": "code",
   "execution_count": 93,
   "outputs": [
    {
     "data": {
      "text/plain": "[3.44, -0.19]"
     },
     "execution_count": 93,
     "metadata": {},
     "output_type": "execute_result"
    }
   ],
   "source": [
    "x_1 = linalg.solve(A_1, b_1)\n",
    "list(map(lambda x: x.round(2), x_1))"
   ],
   "metadata": {
    "collapsed": false,
    "pycharm": {
     "name": "#%%\n"
    }
   }
  },
  {
   "cell_type": "code",
   "execution_count": 94,
   "outputs": [
    {
     "data": {
      "text/plain": "[3.33, -0.07, -0.01]"
     },
     "execution_count": 94,
     "metadata": {},
     "output_type": "execute_result"
    }
   ],
   "source": [
    "x_2 = linalg.solve(A_2, b_2)\n",
    "list(map(lambda x: x.round(2), x_2))"
   ],
   "metadata": {
    "collapsed": false,
    "pycharm": {
     "name": "#%%\n"
    }
   }
  },
  {
   "cell_type": "code",
   "execution_count": 95,
   "outputs": [
    {
     "data": {
      "text/plain": "[4.36, -1.3, 0.19, -0.01]"
     },
     "execution_count": 95,
     "metadata": {},
     "output_type": "execute_result"
    }
   ],
   "source": [
    "x_3 = linalg.solve(A_3, b_3)\n",
    "list(map(lambda x: x.round(2), x_3))"
   ],
   "metadata": {
    "collapsed": false,
    "pycharm": {
     "name": "#%%\n"
    }
   }
  },
  {
   "cell_type": "code",
   "execution_count": 101,
   "outputs": [
    {
     "data": {
      "text/plain": "<Figure size 432x288 with 1 Axes>",
      "image/png": "[encoded data removed]"
     },
     "metadata": {
      "needs_background": "light"
     },
     "output_type": "display_data"
    }
   ],
   "source": [
    "x = np.arange(1, 15, 0.1)\n",
    "y_0 = np.sin(x/5) * np.exp(x/10) + 5 * np.exp(-x/2)\n",
    "y_1 = x_1[0] + x * x_1[1]\n",
    "y_2 = x_2[0] + x * x_2[1] +x_2[2] * (x**2)\n",
    "y_3 = x_3[0] + x * x_3[1] +x_3[2] * (x**2) + x_3[3] * (x**3)\n",
    "\n",
    "\n",
    "plt.plot(x, y_0, x, y_1, x, y_2, x, y_3)\n",
    "plt.xlabel(r'$x$') #Метка по оси x в формате TeX\n",
    "plt.ylabel(r'$f(x)$') #Метка по оси y в формате TeX\n",
    "plt.grid(True)\n",
    "plt.show()\n"
   ],
   "metadata": {
    "collapsed": false,
    "pycharm": {
     "name": "#%%\n"
    }
   }
  },
  {
   "cell_type": "code",
   "execution_count": 103,
   "outputs": [
    {
     "name": "stdout",
     "output_type": "stream",
     "text": [
      "4.36\n"
     ]
    }
   ],
   "source": [
    "k = 0\n",
    "for i in x_3:\n",
    "    i = round(i,2)\n",
    "    x_3[k] = i\n",
    "    k += 1\n",
    "print(x_3[0])"
   ],
   "metadata": {
    "collapsed": false,
    "pycharm": {
     "name": "#%%\n"
    }
   }
  },
  {
   "cell_type": "code",
   "execution_count": 105,
   "outputs": [
    {
     "data": {
      "text/plain": "'4.36 -1.3 0.19 -0.01'"
     },
     "execution_count": 105,
     "metadata": {},
     "output_type": "execute_result"
    }
   ],
   "source": [
    "st = ' '.join(str(v) for v in x_3)\n",
    "st"
   ],
   "metadata": {
    "collapsed": false,
    "pycharm": {
     "name": "#%%\n"
    }
   }
  },
  {
   "cell_type": "code",
   "execution_count": 106,
   "outputs": [],
   "source": [
    "file_obj = open('submission-2.txt', 'w')\n",
    "file_obj.write(st)\n",
    "file_obj.close()"
   ],
   "metadata": {
    "collapsed": false,
    "pycharm": {
     "name": "#%%\n"
    }
   }
  },
  {
   "cell_type": "code",
   "execution_count": 107,
   "outputs": [
    {
     "name": "stdout",
     "output_type": "stream",
     "text": [
      "4.36 -1.3 0.19 -0.01\n"
     ]
    }
   ],
   "source": [
    "file_obj = open('submission-2.txt', 'r')\n",
    "print(file_obj.read())\n",
    "file_obj.close()"
   ],
   "metadata": {
    "collapsed": false,
    "pycharm": {
     "name": "#%%\n"
    }
   }
  }
 ],
 "metadata": {
  "kernelspec": {
   "display_name": "Python 3 (ipykernel)",
   "language": "python",
   "name": "python3"
  },
  "language_info": {
   "codemirror_mode": {
    "name": "ipython",
    "version": 3
   },
   "file_extension": ".py",
   "mimetype": "text/x-python",
   "name": "python",
   "nbconvert_exporter": "python",
   "pygments_lexer": "ipython3",
   "version": "3.8.5"
  }
 },
 "nbformat": 4,
 "nbformat_minor": 1
}